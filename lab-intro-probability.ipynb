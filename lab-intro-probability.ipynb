{
 "cells": [
  {
   "cell_type": "markdown",
   "metadata": {},
   "source": [
    "# Lab | Intro to Probability"
   ]
  },
  {
   "cell_type": "markdown",
   "metadata": {},
   "source": [
    "**Objective**\n",
    "\n",
    "Welcome to this Intro to Probability lab, where we explore decision-making scenarios through the lens of probability and strategic analysis. In the business world, making informed decisions is crucial, especially when faced with uncertainties. This lab focuses on scenarios where probabilistic outcomes play a significant role in shaping strategies and outcomes. Students will engage in exercises that require assessing and choosing optimal paths based on data-driven insights. The goal is to enhance your skills by applying probability concepts to solve real-world problems."
   ]
  },
  {
   "cell_type": "markdown",
   "metadata": {},
   "source": [
    "**Challenge 1**"
   ]
  },
  {
   "cell_type": "markdown",
   "metadata": {},
   "source": [
    "#### Ironhack Airlines \n",
    "\n",
    "Often Airlines sell more tickets than they have seats available, this is called overbooking. Consider the following:\n",
    "- A plane has 450 seats. \n",
    "- Based on historical data we conclude that each individual passenger has a 3% chance of missing it's flight. \n",
    "\n",
    "If the Ironhack Airlines routinely sells 460 tickets, what is the chance that they have a seats for all passenger?"
   ]
  },
  {
   "cell_type": "code",
   "execution_count": 1,
   "metadata": {},
   "outputs": [
    {
     "name": "stdout",
     "output_type": "stream",
     "text": [
      "Probability that 450 or fewer passengers show up: 0.8801\n"
     ]
    }
   ],
   "source": [
    "import scipy.stats as stats\n",
    "\n",
    "n = 460\n",
    "p = 0.97\n",
    "mu = n * p\n",
    "sigma = (n * p * (1 - p)) ** 0.5\n",
    "\n",
    "# Continuity correction\n",
    "x = 450.5\n",
    "z = (x - mu) / sigma\n",
    "\n",
    "prob = stats.norm.cdf(z)\n",
    "print(f\"Probability that 450 or fewer passengers show up: {prob:.4f}\")\n"
   ]
  },
  {
   "cell_type": "markdown",
   "metadata": {},
   "source": [
    "**Challenge 2**"
   ]
  },
  {
   "cell_type": "markdown",
   "metadata": {},
   "source": [
    "#### Ironhack Call Center "
   ]
  },
  {
   "cell_type": "markdown",
   "metadata": {},
   "source": [
    "Suppose a customer service representative at a call center is handling customer complaints. Consider the following:\n",
    "- The probability of successfully resolving a customer complaint on the first attempt is 0.3. \n",
    "\n",
    "\n",
    "What is the probability that the representative needs to make at least three attempts before successfully resolving a customer complaint?"
   ]
  },
  {
   "cell_type": "code",
   "execution_count": 2,
   "metadata": {},
   "outputs": [
    {
     "name": "stdout",
     "output_type": "stream",
     "text": [
      "Probability that at least 3 attempts are needed: 0.4900\n"
     ]
    }
   ],
   "source": [
    "p = 0.3\n",
    "\n",
    "q = 1 - p\n",
    "\n",
    "prob_at_least_3_attempts = q**2\n",
    "\n",
    "print(f\"Probability that at least 3 attempts are needed: {prob_at_least_3_attempts:.4f}\")\n"
   ]
  },
  {
   "cell_type": "markdown",
   "metadata": {},
   "source": [
    "**Challenge 3**"
   ]
  },
  {
   "cell_type": "markdown",
   "metadata": {},
   "source": [
    "#### Ironhack Website"
   ]
  },
  {
   "cell_type": "markdown",
   "metadata": {},
   "source": [
    "Consider a scenario related to Ironhack website traffic. Where:\n",
    "- our website takes on average 500 visits per hour.\n",
    "- the website's server is designed to handle up to 550 vists per hour.\n",
    "\n",
    "\n",
    "What is the probability of the website server being overwhelmed?"
   ]
  },
  {
   "cell_type": "code",
   "execution_count": 3,
   "metadata": {},
   "outputs": [
    {
     "name": "stdout",
     "output_type": "stream",
     "text": [
      "Probability that server is overwhelmed: 0.0120\n"
     ]
    }
   ],
   "source": [
    "import scipy.stats as stats\n",
    "import math\n",
    "\n",
    "lambda_ = 500\n",
    "capacity = 550\n",
    "\n",
    "mu = lambda_\n",
    "sigma = math.sqrt(lambda_)\n",
    "\n",
    "# Continuity correction\n",
    "x = capacity + 0.5\n",
    "z = (x - mu) / sigma\n",
    "\n",
    "prob_overwhelmed = 1 - stats.norm.cdf(z)\n",
    "\n",
    "print(f\"Probability that server is overwhelmed: {prob_overwhelmed:.4f}\")"
   ]
  },
  {
   "cell_type": "markdown",
   "metadata": {},
   "source": [
    "What is the probability of being overwhelmed at some point during a day? (consider 24hours)"
   ]
  },
  {
   "cell_type": "code",
   "execution_count": 4,
   "metadata": {},
   "outputs": [
    {
     "name": "stdout",
     "output_type": "stream",
     "text": [
      "Probability of being overwhelmed at least once in 24 hours: 0.2497\n"
     ]
    }
   ],
   "source": [
    "p_hourly = 0.0119\n",
    "hours = 24\n",
    "\n",
    "p_no_overwhelm_24h = (1 - p_hourly)**hours\n",
    "p_at_least_one_overwhelm = 1 - p_no_overwhelm_24h\n",
    "\n",
    "print(f\"Probability of being overwhelmed at least once in 24 hours: {p_at_least_one_overwhelm:.4f}\")\n"
   ]
  },
  {
   "cell_type": "markdown",
   "metadata": {},
   "source": [
    "**Challenge 4**"
   ]
  },
  {
   "cell_type": "markdown",
   "metadata": {},
   "source": [
    "#### Ironhack Helpdesk"
   ]
  },
  {
   "cell_type": "markdown",
   "metadata": {},
   "source": [
    "Consider a scenario related to the time between arrivals of customers at a service desk.\n",
    "\n",
    "On average, a customers arrives every 10minutes.\n",
    "\n",
    "What is the probability that the next customer will arrive within the next 5 minutes?"
   ]
  },
  {
   "cell_type": "code",
   "execution_count": 5,
   "metadata": {},
   "outputs": [
    {
     "name": "stdout",
     "output_type": "stream",
     "text": [
      "Probability next customer arrives within 5 minutes: 0.3935\n"
     ]
    }
   ],
   "source": [
    "import math\n",
    "\n",
    "lambda_rate = 1/10  # arrivals per minute\n",
    "t = 5  # minutes\n",
    "\n",
    "prob_within_5_min = 1 - math.exp(-lambda_rate * t)\n",
    "print(f\"Probability next customer arrives within 5 minutes: {prob_within_5_min:.4f}\")"
   ]
  },
  {
   "cell_type": "markdown",
   "metadata": {},
   "source": [
    "If there is no customer for 15minutes, employees can that a 5minutes break.\n",
    "\n",
    "What is the probability an employee taking a break?"
   ]
  },
  {
   "cell_type": "code",
   "execution_count": 6,
   "metadata": {},
   "outputs": [
    {
     "name": "stdout",
     "output_type": "stream",
     "text": [
      "Probability of employee taking a break: 0.2231\n"
     ]
    }
   ],
   "source": [
    "lambda_rate = 1/10  # arrivals per minute\n",
    "time_no_customer = 15  # minutes\n",
    "\n",
    "prob_break = math.exp(-lambda_rate * time_no_customer)\n",
    "print(f\"Probability of employee taking a break: {prob_break:.4f}\")"
   ]
  },
  {
   "cell_type": "markdown",
   "metadata": {},
   "source": [
    "**Challenge 5**"
   ]
  },
  {
   "cell_type": "markdown",
   "metadata": {},
   "source": [
    "The weights of a certain species of birds follow a normal distribution with a mean weight of 150 grams and a standard deviation of 10 grams. \n",
    "\n",
    "- If we randomly select a bird, what is the probability that its weight is between 140 and 160 grams?"
   ]
  },
  {
   "cell_type": "code",
   "execution_count": 7,
   "metadata": {},
   "outputs": [
    {
     "name": "stdout",
     "output_type": "stream",
     "text": [
      "Probability that bird weight is between 140 and 160 grams: 0.6827\n"
     ]
    }
   ],
   "source": [
    "from scipy.stats import norm\n",
    "\n",
    "mu = 150\n",
    "sigma = 10\n",
    "lower = 140\n",
    "upper = 160\n",
    "\n",
    "# Calculate cumulative probabilities\n",
    "p_lower = norm.cdf(lower, mu, sigma)\n",
    "p_upper = norm.cdf(upper, mu, sigma)\n",
    "\n",
    "prob = p_upper - p_lower\n",
    "print(f\"Probability that bird weight is between 140 and 160 grams: {prob:.4f}\")#code here"
   ]
  },
  {
   "cell_type": "markdown",
   "metadata": {},
   "source": [
    "**Challenge 6**"
   ]
  },
  {
   "cell_type": "markdown",
   "metadata": {},
   "source": [
    "If the lifetime (in hours) of a certain electronic component follows an exponential distribution with a mean lifetime of 50 hours, what is the probability that the component fails within the first 30 hours?"
   ]
  },
  {
   "cell_type": "code",
   "execution_count": 8,
   "metadata": {},
   "outputs": [
    {
     "name": "stdout",
     "output_type": "stream",
     "text": [
      "Probability component fails within 30 hours: 0.4512\n"
     ]
    }
   ],
   "source": [
    "\n",
    "lambda_rate = 1/50  # rate parameter\n",
    "t = 30  # time in hours\n",
    "\n",
    "prob_failure = 1 - math.exp(-lambda_rate * t)\n",
    "print(f\"Probability component fails within 30 hours: {prob_failure:.4f}\")\n"
   ]
  }
 ],
 "metadata": {
  "kernelspec": {
   "display_name": "Python 3",
   "language": "python",
   "name": "python3"
  },
  "language_info": {
   "codemirror_mode": {
    "name": "ipython",
    "version": 3
   },
   "file_extension": ".py",
   "mimetype": "text/x-python",
   "name": "python",
   "nbconvert_exporter": "python",
   "pygments_lexer": "ipython3",
   "version": "3.13.3"
  }
 },
 "nbformat": 4,
 "nbformat_minor": 2
}
